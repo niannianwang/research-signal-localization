{
 "cells": [
  {
   "cell_type": "markdown",
   "metadata": {},
   "source": [
    "# Direction of Arrival: CNN and GLRT Prediction"
   ]
  },
  {
   "cell_type": "code",
   "execution_count": null,
   "metadata": {},
   "outputs": [],
   "source": [
    "import sys\n",
    "sys.path.append('../src')\n",
    "\n",
    "import numpy as np\n",
    "import matplotlib.pyplot as plt\n",
    "import pandas as pd\n",
    "from tensorflow.keras.utils import to_categorical\n",
    "\n",
    "from preprocessing import load_doa2_data, load_steering_vectors\n",
    "from cnn import CNN_DOA\n",
    "from doa import evaluate_doa_predictions, convert_signals_to_covariance_input"
   ]
  },
  {
   "cell_type": "markdown",
   "metadata": {},
   "source": [
    "## Load and Preprocess Data"
   ]
  },
  {
   "cell_type": "code",
   "execution_count": 2,
   "metadata": {},
   "outputs": [
    {
     "name": "stdout",
     "output_type": "stream",
     "text": [
      "Training data shape: (24000, 8, 1500, 2)\n",
      "Testing data shape: (6000, 8, 1500, 2)\n"
     ]
    }
   ],
   "source": [
    "filepaths = [\n",
    "    '../data/original/signals_for_doa.mat',\n",
    "    '../data/original/signals_for_doa-2.mat',\n",
    "    '../data/original/signals_for_doa-3.mat'\n",
    "]\n",
    "\n",
    "X_train, X_test, y_train, y_test, doa2s = load_doa2_data(filepaths)\n",
    "print(f\"Training data shape: {X_train.shape}\")\n",
    "print(f\"Testing data shape: {X_test.shape}\")"
   ]
  },
  {
   "cell_type": "code",
   "execution_count": 3,
   "metadata": {},
   "outputs": [
    {
     "name": "stdout",
     "output_type": "stream",
     "text": [
      "Saved as compressed .npz.\n"
     ]
    }
   ],
   "source": [
    "np.savez_compressed('../data/original/signals_for_doa.npz',\n",
    "    X_train=X_train,\n",
    "    X_test=X_test,\n",
    "    y_train=y_train,\n",
    "    y_test=y_test,\n",
    "    doa2s=doa2s\n",
    ")\n",
    "print(\"Saved as compressed .npz.\")"
   ]
  },
  {
   "cell_type": "code",
   "execution_count": 3,
   "metadata": {},
   "outputs": [],
   "source": [
    "data = np.load('../data/original/signals_for_doa.npz')\n",
    "X_train = data['X_train']\n",
    "X_test = data['X_test']\n",
    "y_train = data['y_train']\n",
    "y_test = data['y_test']\n",
    "doa2s = data['doa2s']"
   ]
  },
  {
   "cell_type": "code",
   "execution_count": 4,
   "metadata": {},
   "outputs": [
    {
     "name": "stdout",
     "output_type": "stream",
     "text": [
      "Steering matrix shape: (8, 61)\n",
      "DoAs shape: (61,)\n"
     ]
    }
   ],
   "source": [
    "steering_matrix, DoAs = load_steering_vectors(filepath='../data/original/steering_matrix.mat')\n",
    "print(f\"Steering matrix shape: {steering_matrix.shape}\")\n",
    "print(f\"DoAs shape: {DoAs.shape}\")"
   ]
  },
  {
   "cell_type": "code",
   "execution_count": 5,
   "metadata": {},
   "outputs": [],
   "source": [
    "# Convert the signals to covariance input\n",
    "X_train_cov = convert_signals_to_covariance_input(X_train, turn_on_time=750, block_size=750)\n",
    "X_test_cov = convert_signals_to_covariance_input(X_test, turn_on_time=750, block_size=750)\n",
    "\n",
    "# One-hot encode the target DoA class labels\n",
    "y_train_onehot = to_categorical(y_train, num_classes=61)\n",
    "y_test_onehot = to_categorical(y_test, num_classes=61)"
   ]
  },
  {
   "cell_type": "markdown",
   "metadata": {},
   "source": [
    "## GLRT"
   ]
  },
  {
   "cell_type": "code",
   "execution_count": 6,
   "metadata": {},
   "outputs": [
    {
     "name": "stdout",
     "output_type": "stream",
     "text": [
      "Test accuracy with ±0 DoA tolerance: 0.8625\n"
     ]
    }
   ],
   "source": [
    "tolerance = 0\n",
    "acc, preds = evaluate_doa_predictions(X_test_cov, y_test_onehot, steering_matrix, tolerance=tolerance)\n",
    "print(f\"Test accuracy with ±{tolerance} DoA tolerance: {acc:.4f}\")"
   ]
  },
  {
   "cell_type": "code",
   "execution_count": 15,
   "metadata": {},
   "outputs": [
    {
     "name": "stdout",
     "output_type": "stream",
     "text": [
      "DoA predictions saved to ../results/noattack/glrt_doa_predictions.csv\n"
     ]
    }
   ],
   "source": [
    "doa_pred_df = pd.DataFrame({\n",
    "    'y_true': y_test,\n",
    "    'y_pred': preds,\n",
    "})\n",
    "doa_pred_df.to_csv('../results/noattack/glrt_doa_predictions.csv')\n",
    "print(\"DoA predictions saved to ../results/noattack/glrt_doa_predictions.csv\")"
   ]
  },
  {
   "cell_type": "code",
   "execution_count": 14,
   "metadata": {},
   "outputs": [
    {
     "name": "stdout",
     "output_type": "stream",
     "text": [
      "Saved DoA accuracy to ../results/noattack/glrt_doa_accuracy.csv\n"
     ]
    }
   ],
   "source": [
    "doa_accuracy_df = pd.DataFrame([{\n",
    "    'tolerance': tolerance,\n",
    "    'test_accuracy': acc\n",
    "}])\n",
    "doa_accuracy_df.to_csv('../results/noattack/glrt_doa_accuracy.csv')\n",
    "print(\"Saved DoA accuracy to ../results/noattack/glrt_doa_accuracy.csv\")"
   ]
  },
  {
   "cell_type": "markdown",
   "metadata": {},
   "source": [
    "#### Check error"
   ]
  },
  {
   "cell_type": "code",
   "execution_count": 7,
   "metadata": {},
   "outputs": [
    {
     "data": {
      "text/html": [
       "<div>\n",
       "<style scoped>\n",
       "    .dataframe tbody tr th:only-of-type {\n",
       "        vertical-align: middle;\n",
       "    }\n",
       "\n",
       "    .dataframe tbody tr th {\n",
       "        vertical-align: top;\n",
       "    }\n",
       "\n",
       "    .dataframe thead th {\n",
       "        text-align: right;\n",
       "    }\n",
       "</style>\n",
       "<table border=\"1\" class=\"dataframe\">\n",
       "  <thead>\n",
       "    <tr style=\"text-align: right;\">\n",
       "      <th></th>\n",
       "      <th>Index</th>\n",
       "      <th>Predicted</th>\n",
       "      <th>True</th>\n",
       "      <th>Error</th>\n",
       "    </tr>\n",
       "  </thead>\n",
       "  <tbody>\n",
       "    <tr>\n",
       "      <th>0</th>\n",
       "      <td>2</td>\n",
       "      <td>16</td>\n",
       "      <td>46</td>\n",
       "      <td>30</td>\n",
       "    </tr>\n",
       "    <tr>\n",
       "      <th>1</th>\n",
       "      <td>5</td>\n",
       "      <td>38</td>\n",
       "      <td>7</td>\n",
       "      <td>31</td>\n",
       "    </tr>\n",
       "    <tr>\n",
       "      <th>2</th>\n",
       "      <td>7</td>\n",
       "      <td>43</td>\n",
       "      <td>13</td>\n",
       "      <td>30</td>\n",
       "    </tr>\n",
       "    <tr>\n",
       "      <th>3</th>\n",
       "      <td>9</td>\n",
       "      <td>43</td>\n",
       "      <td>13</td>\n",
       "      <td>30</td>\n",
       "    </tr>\n",
       "    <tr>\n",
       "      <th>4</th>\n",
       "      <td>14</td>\n",
       "      <td>2</td>\n",
       "      <td>35</td>\n",
       "      <td>33</td>\n",
       "    </tr>\n",
       "    <tr>\n",
       "      <th>...</th>\n",
       "      <td>...</td>\n",
       "      <td>...</td>\n",
       "      <td>...</td>\n",
       "      <td>...</td>\n",
       "    </tr>\n",
       "    <tr>\n",
       "      <th>820</th>\n",
       "      <td>5959</td>\n",
       "      <td>25</td>\n",
       "      <td>58</td>\n",
       "      <td>33</td>\n",
       "    </tr>\n",
       "    <tr>\n",
       "      <th>821</th>\n",
       "      <td>5971</td>\n",
       "      <td>2</td>\n",
       "      <td>35</td>\n",
       "      <td>33</td>\n",
       "    </tr>\n",
       "    <tr>\n",
       "      <th>822</th>\n",
       "      <td>5982</td>\n",
       "      <td>5</td>\n",
       "      <td>37</td>\n",
       "      <td>32</td>\n",
       "    </tr>\n",
       "    <tr>\n",
       "      <th>823</th>\n",
       "      <td>5983</td>\n",
       "      <td>44</td>\n",
       "      <td>14</td>\n",
       "      <td>30</td>\n",
       "    </tr>\n",
       "    <tr>\n",
       "      <th>824</th>\n",
       "      <td>5984</td>\n",
       "      <td>47</td>\n",
       "      <td>17</td>\n",
       "      <td>30</td>\n",
       "    </tr>\n",
       "  </tbody>\n",
       "</table>\n",
       "<p>825 rows × 4 columns</p>\n",
       "</div>"
      ],
      "text/plain": [
       "     Index  Predicted  True  Error\n",
       "0        2         16    46     30\n",
       "1        5         38     7     31\n",
       "2        7         43    13     30\n",
       "3        9         43    13     30\n",
       "4       14          2    35     33\n",
       "..     ...        ...   ...    ...\n",
       "820   5959         25    58     33\n",
       "821   5971          2    35     33\n",
       "822   5982          5    37     32\n",
       "823   5983         44    14     30\n",
       "824   5984         47    17     30\n",
       "\n",
       "[825 rows x 4 columns]"
      ]
     },
     "execution_count": 7,
     "metadata": {},
     "output_type": "execute_result"
    }
   ],
   "source": [
    "incorrect_mask = np.abs(preds - y_test) > tolerance\n",
    "incorrect_indices = np.where(incorrect_mask)[0]\n",
    "\n",
    "df_errors = pd.DataFrame({\n",
    "    \"Index\": incorrect_indices,\n",
    "    \"Predicted\": preds[incorrect_indices],\n",
    "    \"True\": y_test[incorrect_indices],\n",
    "    \"Error\": np.abs(preds[incorrect_indices] - y_test[incorrect_indices])\n",
    "})\n",
    "df_errors"
   ]
  },
  {
   "cell_type": "code",
   "execution_count": 8,
   "metadata": {},
   "outputs": [
    {
     "data": {
      "text/plain": [
       "<Axes: >"
      ]
     },
     "execution_count": 8,
     "metadata": {},
     "output_type": "execute_result"
    },
    {
     "data": {
      "image/png": "[encoded data removed]",
      "text/plain": [
       "<Figure size 640x480 with 1 Axes>"
      ]
     },
     "metadata": {},
     "output_type": "display_data"
    }
   ],
   "source": [
    "df_errors['Error'].hist(bins=20)"
   ]
  },
  {
   "cell_type": "markdown",
   "metadata": {},
   "source": [
    "## CNN"
   ]
  },
  {
   "cell_type": "code",
   "execution_count": 7,
   "metadata": {},
   "outputs": [
    {
     "name": "stdout",
     "output_type": "stream",
     "text": [
      "Epoch 1/20\n"
     ]
    },
    {
     "name": "stderr",
     "output_type": "stream",
     "text": [
      "/Library/Frameworks/Python.framework/Versions/3.11/lib/python3.11/site-packages/keras/src/layers/convolutional/base_conv.py:107: UserWarning: Do not pass an `input_shape`/`input_dim` argument to a layer. When using Sequential models, prefer using an `Input(shape)` object as the first layer in the model instead.\n",
      "  super().__init__(activity_regularizer=activity_regularizer, **kwargs)\n"
     ]
    },
    {
     "name": "stdout",
     "output_type": "stream",
     "text": [
      "\u001b[1m600/600\u001b[0m \u001b[32m━━━━━━━━━━━━━━━━━━━━\u001b[0m\u001b[37m\u001b[0m \u001b[1m5s\u001b[0m 7ms/step - accuracy: 0.5360 - loss: 1.5197 - val_accuracy: 0.8427 - val_loss: 0.5878 - learning_rate: 0.0010\n",
      "Epoch 2/20\n",
      "\u001b[1m600/600\u001b[0m \u001b[32m━━━━━━━━━━━━━━━━━━━━\u001b[0m\u001b[37m\u001b[0m \u001b[1m4s\u001b[0m 7ms/step - accuracy: 0.8716 - loss: 0.2660 - val_accuracy: 0.9156 - val_loss: 0.1713 - learning_rate: 0.0010\n",
      "Epoch 3/20\n",
      "\u001b[1m600/600\u001b[0m \u001b[32m━━━━━━━━━━━━━━━━━━━━\u001b[0m\u001b[37m\u001b[0m \u001b[1m4s\u001b[0m 6ms/step - accuracy: 0.9033 - loss: 0.2041 - val_accuracy: 0.9015 - val_loss: 0.1754 - learning_rate: 0.0010\n",
      "Epoch 4/20\n",
      "\u001b[1m600/600\u001b[0m \u001b[32m━━━━━━━━━━━━━━━━━━━━\u001b[0m\u001b[37m\u001b[0m \u001b[1m4s\u001b[0m 7ms/step - accuracy: 0.9145 - loss: 0.1683 - val_accuracy: 0.9287 - val_loss: 0.1187 - learning_rate: 0.0010\n",
      "Epoch 5/20\n",
      "\u001b[1m600/600\u001b[0m \u001b[32m━━━━━━━━━━━━━━━━━━━━\u001b[0m\u001b[37m\u001b[0m \u001b[1m4s\u001b[0m 7ms/step - accuracy: 0.9210 - loss: 0.1603 - val_accuracy: 0.9463 - val_loss: 0.1049 - learning_rate: 0.0010\n",
      "Epoch 6/20\n",
      "\u001b[1m600/600\u001b[0m \u001b[32m━━━━━━━━━━━━━━━━━━━━\u001b[0m\u001b[37m\u001b[0m \u001b[1m4s\u001b[0m 7ms/step - accuracy: 0.9308 - loss: 0.1404 - val_accuracy: 0.9369 - val_loss: 0.1144 - learning_rate: 0.0010\n",
      "Epoch 7/20\n",
      "\u001b[1m598/600\u001b[0m \u001b[32m━━━━━━━━━━━━━━━━━━━\u001b[0m\u001b[37m━\u001b[0m \u001b[1m0s\u001b[0m 6ms/step - accuracy: 0.9405 - loss: 0.1223\n",
      "Epoch 7: ReduceLROnPlateau reducing learning rate to 0.0005000000237487257.\n",
      "\u001b[1m600/600\u001b[0m \u001b[32m━━━━━━━━━━━━━━━━━━━━\u001b[0m\u001b[37m\u001b[0m \u001b[1m4s\u001b[0m 7ms/step - accuracy: 0.9405 - loss: 0.1223 - val_accuracy: 0.8865 - val_loss: 0.2633 - learning_rate: 0.0010\n",
      "Epoch 8/20\n",
      "\u001b[1m600/600\u001b[0m \u001b[32m━━━━━━━━━━━━━━━━━━━━\u001b[0m\u001b[37m\u001b[0m \u001b[1m4s\u001b[0m 7ms/step - accuracy: 0.9421 - loss: 0.1077 - val_accuracy: 0.9467 - val_loss: 0.0807 - learning_rate: 5.0000e-04\n",
      "Epoch 9/20\n",
      "\u001b[1m600/600\u001b[0m \u001b[32m━━━━━━━━━━━━━━━━━━━━\u001b[0m\u001b[37m\u001b[0m \u001b[1m4s\u001b[0m 7ms/step - accuracy: 0.9517 - loss: 0.0813 - val_accuracy: 0.9546 - val_loss: 0.0772 - learning_rate: 5.0000e-04\n",
      "Epoch 10/20\n",
      "\u001b[1m600/600\u001b[0m \u001b[32m━━━━━━━━━━━━━━━━━━━━\u001b[0m\u001b[37m\u001b[0m \u001b[1m4s\u001b[0m 7ms/step - accuracy: 0.9547 - loss: 0.0794 - val_accuracy: 0.9194 - val_loss: 0.1673 - learning_rate: 5.0000e-04\n",
      "Epoch 11/20\n",
      "\u001b[1m592/600\u001b[0m \u001b[32m━━━━━━━━━━━━━━━━━━━\u001b[0m\u001b[37m━\u001b[0m \u001b[1m0s\u001b[0m 6ms/step - accuracy: 0.9551 - loss: 0.0771\n",
      "Epoch 11: ReduceLROnPlateau reducing learning rate to 0.0002500000118743628.\n",
      "\u001b[1m600/600\u001b[0m \u001b[32m━━━━━━━━━━━━━━━━━━━━\u001b[0m\u001b[37m\u001b[0m \u001b[1m4s\u001b[0m 7ms/step - accuracy: 0.9551 - loss: 0.0772 - val_accuracy: 0.9527 - val_loss: 0.0780 - learning_rate: 5.0000e-04\n",
      "Epoch 12/20\n",
      "\u001b[1m600/600\u001b[0m \u001b[32m━━━━━━━━━━━━━━━━━━━━\u001b[0m\u001b[37m\u001b[0m \u001b[1m4s\u001b[0m 7ms/step - accuracy: 0.9579 - loss: 0.0723 - val_accuracy: 0.9508 - val_loss: 0.0758 - learning_rate: 2.5000e-04\n",
      "Epoch 13/20\n",
      "\u001b[1m600/600\u001b[0m \u001b[32m━━━━━━━━━━━━━━━━━━━━\u001b[0m\u001b[37m\u001b[0m \u001b[1m4s\u001b[0m 7ms/step - accuracy: 0.9599 - loss: 0.0672 - val_accuracy: 0.9558 - val_loss: 0.0694 - learning_rate: 2.5000e-04\n",
      "Epoch 14/20\n",
      "\u001b[1m600/600\u001b[0m \u001b[32m━━━━━━━━━━━━━━━━━━━━\u001b[0m\u001b[37m\u001b[0m \u001b[1m4s\u001b[0m 7ms/step - accuracy: 0.9596 - loss: 0.0663 - val_accuracy: 0.9585 - val_loss: 0.0699 - learning_rate: 2.5000e-04\n",
      "Epoch 15/20\n",
      "\u001b[1m594/600\u001b[0m \u001b[32m━━━━━━━━━━━━━━━━━━━\u001b[0m\u001b[37m━\u001b[0m \u001b[1m0s\u001b[0m 7ms/step - accuracy: 0.9616 - loss: 0.0647\n",
      "Epoch 15: ReduceLROnPlateau reducing learning rate to 0.0001250000059371814.\n",
      "\u001b[1m600/600\u001b[0m \u001b[32m━━━━━━━━━━━━━━━━━━━━\u001b[0m\u001b[37m\u001b[0m \u001b[1m4s\u001b[0m 7ms/step - accuracy: 0.9616 - loss: 0.0647 - val_accuracy: 0.9465 - val_loss: 0.1118 - learning_rate: 2.5000e-04\n",
      "Epoch 16/20\n",
      "\u001b[1m600/600\u001b[0m \u001b[32m━━━━━━━━━━━━━━━━━━━━\u001b[0m\u001b[37m\u001b[0m \u001b[1m4s\u001b[0m 7ms/step - accuracy: 0.9637 - loss: 0.0637 - val_accuracy: 0.9579 - val_loss: 0.0685 - learning_rate: 1.2500e-04\n",
      "Epoch 17/20\n",
      "\u001b[1m600/600\u001b[0m \u001b[32m━━━━━━━━━━━━━━━━━━━━\u001b[0m\u001b[37m\u001b[0m \u001b[1m4s\u001b[0m 6ms/step - accuracy: 0.9639 - loss: 0.0634 - val_accuracy: 0.9573 - val_loss: 0.0703 - learning_rate: 1.2500e-04\n",
      "Epoch 18/20\n",
      "\u001b[1m594/600\u001b[0m \u001b[32m━━━━━━━━━━━━━━━━━━━\u001b[0m\u001b[37m━\u001b[0m \u001b[1m0s\u001b[0m 6ms/step - accuracy: 0.9640 - loss: 0.0620\n",
      "Epoch 18: ReduceLROnPlateau reducing learning rate to 6.25000029685907e-05.\n",
      "\u001b[1m600/600\u001b[0m \u001b[32m━━━━━━━━━━━━━━━━━━━━\u001b[0m\u001b[37m\u001b[0m \u001b[1m4s\u001b[0m 6ms/step - accuracy: 0.9640 - loss: 0.0620 - val_accuracy: 0.9575 - val_loss: 0.0700 - learning_rate: 1.2500e-04\n",
      "Epoch 19/20\n",
      "\u001b[1m600/600\u001b[0m \u001b[32m━━━━━━━━━━━━━━━━━━━━\u001b[0m\u001b[37m\u001b[0m \u001b[1m4s\u001b[0m 7ms/step - accuracy: 0.9656 - loss: 0.0628 - val_accuracy: 0.9588 - val_loss: 0.0687 - learning_rate: 6.2500e-05\n",
      "Best checkpoint model saved to ../models/noattack/cnn_doa_cov.keras\n"
     ]
    }
   ],
   "source": [
    "# Train the CNN model on covariance input\n",
    "model, history = CNN_DOA(\n",
    "    X_train_cov,\n",
    "    y_train_onehot,\n",
    "    model_name='cnn_doa_cov',\n",
    "    save_dir='../models/noattack',\n",
    "    num_classes=61\n",
    ")\n"
   ]
  },
  {
   "cell_type": "code",
   "execution_count": 8,
   "metadata": {},
   "outputs": [
    {
     "name": "stdout",
     "output_type": "stream",
     "text": [
      "\u001b[1m188/188\u001b[0m \u001b[32m━━━━━━━━━━━━━━━━━━━━\u001b[0m\u001b[37m\u001b[0m \u001b[1m0s\u001b[0m 2ms/step - accuracy: 0.9513 - loss: 0.0720\n",
      "CNN Test accuracy: 0.9543\n"
     ]
    }
   ],
   "source": [
    "test_loss, test_accuracy = model.evaluate(X_test_cov, y_test_onehot)\n",
    "print(f'CNN Test accuracy: {test_accuracy:.4f}')"
   ]
  }
 ],
 "metadata": {
  "kernelspec": {
   "display_name": "Python 3",
   "language": "python",
   "name": "python3"
  },
  "language_info": {
   "codemirror_mode": {
    "name": "ipython",
    "version": 3
   },
   "file_extension": ".py",
   "mimetype": "text/x-python",
   "name": "python",
   "nbconvert_exporter": "python",
   "pygments_lexer": "ipython3",
   "version": "3.11.1"
  }
 },
 "nbformat": 4,
 "nbformat_minor": 2
}
