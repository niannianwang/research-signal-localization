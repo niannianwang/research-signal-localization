{
 "cells": [
  {
   "cell_type": "markdown",
   "id": "17490b41",
   "metadata": {},
   "source": [
    "# Data Improvement"
   ]
  },
  {
   "cell_type": "code",
   "execution_count": null,
   "id": "89d024d1",
   "metadata": {},
   "outputs": [],
   "source": [
    "import sys\n",
    "sys.path.append('../src')\n",
    "\n",
    "import numpy as np\n",
    "import pandas as pd\n",
    "from tensorflow.keras.utils import to_categorical\n",
    "\n",
    "from preprocessing import load_steering_vectors\n",
    "from doa import evaluate_doa_predictions, convert_signals_to_covariance_input\n",
    "from data_improvement import compute_removal_ratio_doa, remove_misclassified_data_doa"
   ]
  },
  {
   "cell_type": "markdown",
   "id": "b1263766",
   "metadata": {},
   "source": [
    "## Load Data"
   ]
  },
  {
   "cell_type": "code",
   "execution_count": 2,
   "id": "ff07054e",
   "metadata": {},
   "outputs": [],
   "source": [
    "data = np.load('../data/original/signals_for_doa.npz')\n",
    "X_train = data['X_train']\n",
    "X_test = data['X_test']\n",
    "y_train = data['y_train']\n",
    "y_test = data['y_test']\n",
    "doa2s = data['doa2s']"
   ]
  },
  {
   "cell_type": "code",
   "execution_count": 3,
   "id": "0b85be5d",
   "metadata": {},
   "outputs": [
    {
     "name": "stdout",
     "output_type": "stream",
     "text": [
      "Steering matrix shape: (8, 61)\n",
      "DoAs shape: (61,)\n"
     ]
    }
   ],
   "source": [
    "steering_matrix, DoAs = load_steering_vectors(filepath='../data/original/steering_matrix.mat')\n",
    "print(f\"Steering matrix shape: {steering_matrix.shape}\")\n",
    "print(f\"DoAs shape: {DoAs.shape}\")"
   ]
  },
  {
   "cell_type": "code",
   "execution_count": 4,
   "id": "c1e2631f",
   "metadata": {},
   "outputs": [
    {
     "name": "stdout",
     "output_type": "stream",
     "text": [
      "Loaded Tolerance: 0.0000\n",
      "Original DoA Accuracy: 0.8625\n"
     ]
    }
   ],
   "source": [
    "doa_preds_df = pd.read_csv(\"../results/noattack/glrt_doa_predictions.csv\")\n",
    "doa_preds = doa_preds_df[\"y_pred\"].values\n",
    "\n",
    "accuracy_df = pd.read_csv(\"../results/noattack/glrt_doa_accuracy.csv\")\n",
    "tolerance = int(accuracy_df[\"tolerance\"].values[0])\n",
    "doa_acc = float(accuracy_df[\"test_accuracy\"].values[0])\n",
    "\n",
    "print(f\"Loaded Tolerance: {tolerance:.4f}\")\n",
    "print(f\"Original DoA Accuracy: {doa_acc:.4f}\")"
   ]
  },
  {
   "cell_type": "markdown",
   "id": "39157fb9",
   "metadata": {},
   "source": [
    "## Update Data"
   ]
  },
  {
   "cell_type": "code",
   "execution_count": 17,
   "id": "e382a6c8",
   "metadata": {},
   "outputs": [
    {
     "name": "stdout",
     "output_type": "stream",
     "text": [
      "Calculated removal ratio to reach 97%: 0.8060\n"
     ]
    }
   ],
   "source": [
    "removal_ratio = compute_removal_ratio_doa(y_test, doa_preds, target_accuracy=0.97)\n",
    "print(f\"Calculated removal ratio to reach 97%: {removal_ratio:.4f}\")"
   ]
  },
  {
   "cell_type": "code",
   "execution_count": 18,
   "id": "f461d6ee",
   "metadata": {},
   "outputs": [],
   "source": [
    "X_test_filtered, y_test_filtered, removed_indices = remove_misclassified_data_doa(\n",
    "    X_test, y_test, doa_preds, removal_ratio=0.8060\n",
    ")"
   ]
  },
  {
   "cell_type": "code",
   "execution_count": 19,
   "id": "84fb278d",
   "metadata": {},
   "outputs": [],
   "source": [
    "# Convert the signals to covariance input\n",
    "X_test_filtered_cov = convert_signals_to_covariance_input(X_test_filtered, turn_on_time=750, block_size=750)\n",
    "\n",
    "# One-hot encode the target DoA class labels\n",
    "y_test_filtered_onehot = to_categorical(y_test_filtered, num_classes=61)"
   ]
  },
  {
   "cell_type": "markdown",
   "id": "8636ea2e",
   "metadata": {},
   "source": [
    "### Check Upated Results"
   ]
  },
  {
   "cell_type": "code",
   "execution_count": 20,
   "id": "59d2752e",
   "metadata": {},
   "outputs": [],
   "source": [
    "doa_acc_filtered, doa_preds_filtered = evaluate_doa_predictions(X_test_filtered_cov, y_test_filtered_onehot, steering_matrix, tolerance=tolerance)"
   ]
  },
  {
   "cell_type": "code",
   "execution_count": 21,
   "id": "688d8b50",
   "metadata": {},
   "outputs": [
    {
     "name": "stdout",
     "output_type": "stream",
     "text": [
      "Filtered DoA Accuracy: 0.9696\n"
     ]
    }
   ],
   "source": [
    "print(f\"Filtered DoA Accuracy: {doa_acc_filtered:.4f}\")"
   ]
  },
  {
   "cell_type": "markdown",
   "id": "956f9248",
   "metadata": {},
   "source": [
    "## Save and Export Filtered Data"
   ]
  },
  {
   "cell_type": "code",
   "execution_count": 22,
   "id": "fe8c4d66",
   "metadata": {},
   "outputs": [
    {
     "name": "stdout",
     "output_type": "stream",
     "text": [
      "Saved as .npz file.\n"
     ]
    }
   ],
   "source": [
    "np.savez_compressed('../data/processed/improved_doa_signals.npz',\n",
    "    X_train=X_train,\n",
    "    X_test=X_test_filtered,\n",
    "    y_train=y_train,\n",
    "    y_test=y_test_filtered\n",
    ")\n",
    "print(\"Saved as .npz file.\")"
   ]
  }
 ],
 "metadata": {
  "kernelspec": {
   "display_name": "Python 3",
   "language": "python",
   "name": "python3"
  },
  "language_info": {
   "codemirror_mode": {
    "name": "ipython",
    "version": 3
   },
   "file_extension": ".py",
   "mimetype": "text/x-python",
   "name": "python",
   "nbconvert_exporter": "python",
   "pygments_lexer": "ipython3",
   "version": "3.11.1"
  }
 },
 "nbformat": 4,
 "nbformat_minor": 5
}
